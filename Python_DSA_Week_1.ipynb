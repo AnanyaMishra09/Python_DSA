{
  "nbformat": 4,
  "nbformat_minor": 0,
  "metadata": {
    "colab": {
      "provenance": [],
      "authorship_tag": "ABX9TyM1G2NNsSJCKAyuQSklTPWw",
      "include_colab_link": true
    },
    "kernelspec": {
      "name": "python3",
      "display_name": "Python 3"
    },
    "language_info": {
      "name": "python"
    }
  },
  "cells": [
    {
      "cell_type": "markdown",
      "metadata": {
        "id": "view-in-github",
        "colab_type": "text"
      },
      "source": [
        "<a href=\"https://colab.research.google.com/github/AnanyaMishra09/Python_DSA/blob/main/Python_DSA_Week_1.ipynb\" target=\"_parent\"><img src=\"https://colab.research.google.com/assets/colab-badge.svg\" alt=\"Open In Colab\"/></a>"
      ]
    },
    {
      "cell_type": "markdown",
      "source": [
        "#Lec 3 - Greatest common Factor(gcd)"
      ],
      "metadata": {
        "id": "X-NtrzjJuHw4"
      }
    },
    {
      "cell_type": "code",
      "source": [
        "# version 1\n",
        "def gcd(m,n):\n",
        "  cf = []  #List of common factors\n",
        "  for i in range(1,min(m,n)+1):\n",
        "    if (m%i) == 0 and (n%i) == 0:\n",
        "      cf.append(i)\n",
        "  return(cf[-1])"
      ],
      "metadata": {
        "id": "8hTYALVH8sTK"
      },
      "execution_count": null,
      "outputs": []
    },
    {
      "cell_type": "code",
      "source": [
        "from re import I\n",
        "# version 2\n",
        "def gcd(m,n):\n",
        "  for i in range(1,min(m,n)+1):\n",
        "    if(m%i) == 0 and (n%i) == 0:\n",
        "      mrcf = i\n",
        "  return(mrcf)"
      ],
      "metadata": {
        "id": "GD1sMdZ89UHO"
      },
      "execution_count": null,
      "outputs": []
    },
    {
      "cell_type": "markdown",
      "source": [
        "#Lec 4 - prime number\n"
      ],
      "metadata": {
        "id": "f7FoJQVcuQuJ"
      }
    },
    {
      "cell_type": "code",
      "source": [
        "# Count the factors and appending them in a list\n",
        "def factors(n):\n",
        "  f1 = [] #Factor list\n",
        "  for i in range(1, n+1):\n",
        "    if (n%i)== 0:\n",
        "      f1.append(i)\n",
        "  return f1"
      ],
      "metadata": {
        "id": "OoILTvQ8uZAA"
      },
      "execution_count": null,
      "outputs": []
    },
    {
      "cell_type": "code",
      "source": [
        "# checking if the number is prime(divisuble by 1 and itself only) or not.\n",
        "# prime number starts from 2 , because 1 can't be in a format[1,n], it looks like [1,1].\n",
        "def prime(n):\n",
        "  return (factors(n) == [1, n])"
      ],
      "metadata": {
        "id": "nMq-_NqTvNPw"
      },
      "execution_count": null,
      "outputs": []
    },
    {
      "cell_type": "code",
      "execution_count": null,
      "metadata": {
        "id": "so9HWDV7uAIe"
      },
      "outputs": [],
      "source": [
        "# function for printing the prime number upto m (it will print all the prime number smaller or equal to that number).\n",
        "def primesupto(m):\n",
        "  p1 = []\n",
        "  for i in range(1, m+1):\n",
        "    if prime(i):\n",
        "      p1.append(i)\n",
        "  return (p1)"
      ]
    },
    {
      "cell_type": "code",
      "source": [
        "# this is to print first m prime numbers.\n",
        "def firstprime(m):\n",
        "  (count,i,pl) = (0,1,[])\n",
        "  while (count < m):\n",
        "    if prime(i):\n",
        "      (count,p1) = (count+1,pl+[i])\n",
        "    i = i+1\n",
        "  return (p1)"
      ],
      "metadata": {
        "id": "dInwe_6xvq7n"
      },
      "execution_count": null,
      "outputs": []
    },
    {
      "cell_type": "code",
      "source": [
        "# Directly check if n has a factor between 2 and n+1\n",
        "def prime(n):\n",
        "  result = True\n",
        "  for i in range(2, n):\n",
        "    if(n%i) == 0:\n",
        "      result = False\n",
        "  return (result)"
      ],
      "metadata": {
        "id": "Y7XT1t7hw3Gh"
      },
      "execution_count": null,
      "outputs": []
    },
    {
      "cell_type": "code",
      "source": [
        "#Terminate check after we find first factor\n",
        "#1) by break out of a loop\n",
        "def orime(n):\n",
        "  result = True\n",
        "  for i in range(2,n):\n",
        "    if(n%i) == 0:\n",
        "      result = False\n",
        "      break  #Abort Loop\n",
        "  return (result)"
      ],
      "metadata": {
        "id": "Lx-LRwvk2n6w"
      },
      "execution_count": null,
      "outputs": []
    },
    {
      "cell_type": "code",
      "source": [
        "#Terminate check after we find first factor\n",
        "#2) Use while loop\n",
        "def prime(n):\n",
        "  (result,i)=(True,2)\n",
        "  while (result and (i< n)):\n",
        "    if(n%i) == 0:\n",
        "      result = False\n",
        "    i = i+1\n",
        "  return (result)\n"
      ],
      "metadata": {
        "id": "KAn1maGe3IUl"
      },
      "execution_count": null,
      "outputs": []
    },
    {
      "cell_type": "code",
      "source": [
        "# SPEEDING UP\n",
        "import math\n",
        "def prime(n):\n",
        "  (result,i)=(True, 2)\n",
        "  while (result and(i<math.sqrt(n))):\n",
        "    if(n%i) == 0:\n",
        "      result = False\n",
        "      i = i+1\n",
        "  return (result)"
      ],
      "metadata": {
        "id": "ths_1Etc3oDs"
      },
      "execution_count": null,
      "outputs": []
    },
    {
      "cell_type": "code",
      "source": [],
      "metadata": {
        "id": "67z0BD0JOr_a"
      },
      "execution_count": null,
      "outputs": []
    },
    {
      "cell_type": "code",
      "source": [
        "# difference between two alternate primes\n",
        "def primediffs(n):\n",
        "  lastprime = 2\n",
        "  pd = {}    #Dictionary for prime differences\n",
        "  for i in range(3, n+1):\n",
        "    if prime(i):\n",
        "      d = i - lastprime\n",
        "      lastprime = i\n",
        "      if d in pd.keys():\n",
        "        pd[d] = pd[d] +1\n",
        "      else:\n",
        "        pd[d] = 1\n",
        "  return (pd)\n",
        "\n",
        "print(primediffs(100))"
      ],
      "metadata": {
        "id": "BwJ0ITDn3_UI",
        "colab": {
          "base_uri": "https://localhost:8080/"
        },
        "outputId": "9330d1ab-49ed-483f-abf2-0ecfe4885da0"
      },
      "execution_count": null,
      "outputs": [
        {
          "output_type": "stream",
          "name": "stdout",
          "text": [
            "{1: 1, 2: 8, 4: 7, 6: 7, 8: 1}\n"
          ]
        }
      ]
    },
    {
      "cell_type": "markdown",
      "source": [
        "#lec 5 - Computing gcd\n",
        "##Both versions of gcd take time proportional to min(m,n)\n",
        "##Suppose d divides m and n\n",
        " - m = ad , n = bd\n",
        " - m - n = (a - b)d\n",
        " - d also divides m - n\n",
        "##Recursively defined function\n",
        " - Base case: n divides m, answer is n\n",
        " - Otherwise, reduce gcd(m,n) to gcd(n,m-n)"
      ],
      "metadata": {
        "id": "lRiQDbBCOtcA"
      }
    },
    {
      "cell_type": "code",
      "source": [
        "def gcd(m,n): #it will bring out the greatest divisor\n",
        "  (a,b) = (max(m,n),min(m,n))\n",
        "  if a % b == 0:\n",
        "    return(b)\n",
        "  else:\n",
        "    return(gcd(b,a-b))\n",
        "\n",
        "# this will solve the function in steps equal to half the largest number."
      ],
      "metadata": {
        "id": "KR0vI18QRDB9"
      },
      "execution_count": null,
      "outputs": []
    },
    {
      "cell_type": "markdown",
      "source": [
        "#Eculid's algorithm\n",
        "- suppose *n* does not divide *m*\n",
        "- Then *m = qn + r*\n",
        "- Suppose *d* divides both *m* and *n*\n",
        "- Then *m = ad*, *n = bd*\n",
        "- *m = qn + r -> ad = q(bd)+r*\n",
        "- *r* must be of the form *cd*\n",
        "\n",
        " ##Euclid's algorithm\n",
        " * If n divides m , gcd(m,n) = n\n",
        " * Otherwise, compute gcd(n, m mod n)\n",
        " ----\n",
        " * Can show that this takes time proportional to number of digits in max(m,n)\n",
        " * it is a non trivial algorithm\n"
      ],
      "metadata": {
        "id": "70NjFDY3b5Uf"
      }
    },
    {
      "cell_type": "code",
      "source": [
        "def gcd(m,n):\n",
        "  (a,b) = (max(m,n),min(m,n))\n",
        "  if a%b == 0:\n",
        "    return(b)\n",
        "  else:\n",
        "    return(gcd(b,a%b))\n",
        "\n",
        "# for example if we do this it will get solved in the times equal\n",
        "# to number of digits in the larger number."
      ],
      "metadata": {
        "id": "j8uJ6DtndWCk"
      },
      "execution_count": null,
      "outputs": []
    },
    {
      "cell_type": "markdown",
      "source": [],
      "metadata": {
        "id": "dotK3rZDlJ2b"
      }
    },
    {
      "cell_type": "markdown",
      "source": [
        "#Lec 6 - Exception Handling"
      ],
      "metadata": {
        "id": "VikI4SaUlKn2"
      }
    },
    {
      "cell_type": "code",
      "source": [
        "#Traditional approach\n",
        "if b in score.keys():\n",
        "  scores[b].append[s]\n",
        "else:\n",
        "  scores[b] = [s]"
      ],
      "metadata": {
        "id": "HXFt4cKIHt4N"
      },
      "execution_count": null,
      "outputs": []
    },
    {
      "cell_type": "code",
      "source": [
        "#Using exceptions\n",
        "try:\n",
        "  scores[b].append(s)\n",
        "except KeyError:\n",
        "  scores[b] = [s]"
      ],
      "metadata": {
        "id": "FlpDVQkFHurB"
      },
      "execution_count": null,
      "outputs": []
    },
    {
      "cell_type": "markdown",
      "source": [
        "#lec 7 - Classes and objects\n"
      ],
      "metadata": {
        "id": "zlb1JWnAI6QO"
      }
    },
    {
      "cell_type": "code",
      "source": [
        "#A point has coordinates(x,y)\n",
        "# __init__()initializes internal values x,y\n",
        "# First parameter is always self\n",
        "# Here, by default a point is at (0,0)\n",
        "\n",
        "class Point:\n",
        "  def __init__(self,a=0,b=0):\n",
        "    self.x = a\n",
        "    self.y = b\n",
        "\n",
        "# Translation ; shift a point by(deltax , deltay)\n",
        "# (x,y)->(x+deltax, y+delta y)\n",
        "  def translate(self,deltax,deltay):\n",
        "    self.x += deltax\n",
        "    self.y += deltay\n",
        "\n",
        "# Distance from the origin\n",
        "# d = (sqrt(x^2+y^2))\n",
        "def odistance(self):\n",
        "  import math\n",
        "  d = math.sqrt(self.x*self.x + self.y*self.y)\n",
        "  return (d)\n"
      ],
      "metadata": {
        "id": "QuqVow2yH7kz"
      },
      "execution_count": null,
      "outputs": []
    },
    {
      "cell_type": "code",
      "source": [
        "# Polar coordinates\n",
        "# (r.0) instead of (x,y)\n",
        "# r = (sqrt(x^2 + y^2))\n",
        "# 0 = tan^-1(y/x)\n",
        "import math\n",
        "class Point:\n",
        "  def __init__(self,a=0,b=0):\n",
        "    self.r = math.sqrt(a*a + b*b)\n",
        "    if a == 0:\n",
        "      self.theta = math.pi/2\n",
        "    else:\n",
        "      self.theta = math.atan(b/a)\n",
        "# Distance fromorigin is just r\n",
        "  def odistance(self):\n",
        "    return (self.r)"
      ],
      "metadata": {
        "id": "-Ws3q9xeSChM"
      },
      "execution_count": null,
      "outputs": []
    },
    {
      "cell_type": "code",
      "source": [
        "# Translation\n",
        "#  convert (r,0) to (x,y)\n",
        "#  x = r cos0, y = r sin0\n",
        "#  recompute r,0 from\n",
        "#  (x+deltax, y+deltay)\n",
        "def translate(self,deltax,deltay):\n",
        "  x = self.r*math.cos(self.theta)\n",
        "  y = self.r*math.sin(self.theta)\n",
        "  x += deltax\n",
        "  y += deltay\n",
        "  self.r = math.sqrt(x*x+y*y)\n",
        "  if x == 0:\n",
        "    self.theta = math.pi/2\n",
        "  else:\n",
        "    self.theta = math.atan(y/x)"
      ],
      "metadata": {
        "id": "fwjzS8xJZRhV"
      },
      "execution_count": null,
      "outputs": []
    },
    {
      "cell_type": "code",
      "source": [
        "# Special functions\n",
        "__init__() -> constructor\n",
        "__str()__ --> convert object to string\n",
        " str(o) == o.__str()__\n",
        " implicitly invoked by print()\n",
        "\n",
        " class Point:\n",
        "  ...\n",
        "  def __str__(self):\n",
        "    return(\"(\"+str(self.x)+\",\"\n",
        "              +str(self.y)+\")\"\n",
        "    )\n",
        "\n",
        "# __add__()\n",
        "# implicitly invoked by +\n",
        "\n",
        "  def __add__(self,p):\n",
        "    return(Point(self.x+p.x,\n",
        "                 self.y+p.y))\n",
        "\n",
        "# similarly\n",
        "# __mult__() invoked by *\n",
        "# __lt__() invoked by <\n",
        "# __eq__() invoked by ==\n",
        "# __ge__() invoked by >=\n"
      ],
      "metadata": {
        "id": "nhBtz6k9gcvc"
      },
      "execution_count": null,
      "outputs": []
    },
    {
      "cell_type": "markdown",
      "source": [
        "#lec 8 - Classes and Objects"
      ],
      "metadata": {
        "id": "wKKhjs0VY-Y2"
      }
    },
    {
      "cell_type": "code",
      "source": [
        "class Point:\n",
        "  def __init__(self,a=0,b=0):\n",
        "    self.x = a\n",
        "    self.y = b\n",
        "\n",
        "  def translate(self,deltax,deltay):\n",
        "    self.x += deltax\n",
        "    self.y += deltay\n",
        "\n",
        "  def odistance(self):\n",
        "    import math\n",
        "    d = math.sqrt(self.x*self.x + self.y*self.y)\n",
        "    return(d)"
      ],
      "metadata": {
        "id": "mAmAllt7xXkf"
      },
      "execution_count": null,
      "outputs": []
    },
    {
      "cell_type": "code",
      "source": [
        "p = Point(3,4)\n",
        "q = Point(7,10)"
      ],
      "metadata": {
        "id": "4Kd2_5W81ZAZ"
      },
      "execution_count": null,
      "outputs": []
    },
    {
      "cell_type": "code",
      "source": [
        "print(p)"
      ],
      "metadata": {
        "id": "jjFk3CMe16n8",
        "colab": {
          "base_uri": "https://localhost:8080/"
        },
        "outputId": "088f29af-118a-49a1-89b4-5676255f884a"
      },
      "execution_count": null,
      "outputs": [
        {
          "output_type": "stream",
          "name": "stdout",
          "text": [
            "<__main__.Point object at 0x78d4eaabded0>\n"
          ]
        }
      ]
    },
    {
      "cell_type": "code",
      "source": [
        "p.odistance() , q.odistance()"
      ],
      "metadata": {
        "id": "k4V3H7pc1eyT",
        "colab": {
          "base_uri": "https://localhost:8080/"
        },
        "outputId": "e79b67d9-865c-4a53-b041-2a676d116f38"
      },
      "execution_count": null,
      "outputs": [
        {
          "output_type": "execute_result",
          "data": {
            "text/plain": [
              "(5.0, 12.206555615733702)"
            ]
          },
          "metadata": {},
          "execution_count": 13
        }
      ]
    },
    {
      "cell_type": "code",
      "source": [
        "p.r"
      ],
      "metadata": {
        "colab": {
          "base_uri": "https://localhost:8080/"
        },
        "id": "DuocL9SG2SUn",
        "outputId": "8babbe1c-55c1-44df-b064-335618354cf7"
      },
      "execution_count": null,
      "outputs": [
        {
          "output_type": "execute_result",
          "data": {
            "text/plain": [
              "5.0"
            ]
          },
          "metadata": {},
          "execution_count": 18
        }
      ]
    },
    {
      "cell_type": "code",
      "source": [
        "class Point:\n",
        "  def __init__(self,a=0,b=0):\n",
        "    import math\n",
        "    self.r = math.sqrt(a*a + b*b)\n",
        "    if a == 0:\n",
        "      self.theta = math.pi/2\n",
        "    else:\n",
        "      self.theta = math.atan(b/a)\n",
        "\n",
        "  def odistance(self):\n",
        "    return(self.r)\n",
        "\n",
        "  def translate(self,deltax,deltay):\n",
        "    x = self.r*math.cos(self.theta)\n",
        "    y = self.r*math.sin(self.theta)\n",
        "    x += deltax\n",
        "    y += deltay\n",
        "    self.r = math.sqrt(x*x+y*y)\n",
        "    if x == 0:\n",
        "      theta = 0\n",
        "    else:\n",
        "      theta = math.atan(y/x)\n"
      ],
      "metadata": {
        "id": "kTDxPybL2ULA"
      },
      "execution_count": null,
      "outputs": []
    },
    {
      "cell_type": "code",
      "source": [
        "p = Point(3,4)\n",
        "q = Point(7,10)"
      ],
      "metadata": {
        "id": "DwC-ewSg3H0M"
      },
      "execution_count": null,
      "outputs": []
    },
    {
      "cell_type": "code",
      "source": [
        "print(p)"
      ],
      "metadata": {
        "colab": {
          "base_uri": "https://localhost:8080/"
        },
        "id": "GY82E4Yf3QP3",
        "outputId": "7b486c14-9e23-4a5e-dbe3-c01038a5f7d9"
      },
      "execution_count": null,
      "outputs": [
        {
          "output_type": "stream",
          "name": "stdout",
          "text": [
            "<__main__.Point object at 0x78d4e36dc7d0>\n"
          ]
        }
      ]
    },
    {
      "cell_type": "code",
      "source": [
        "p.r, p.theta"
      ],
      "metadata": {
        "colab": {
          "base_uri": "https://localhost:8080/"
        },
        "id": "laWnz_xe3SIX",
        "outputId": "f141b1d4-21b3-42c8-e62b-4be9f25e83c2"
      },
      "execution_count": null,
      "outputs": [
        {
          "output_type": "execute_result",
          "data": {
            "text/plain": [
              "(5.0, 0.9272952180016122)"
            ]
          },
          "metadata": {},
          "execution_count": 19
        }
      ]
    },
    {
      "cell_type": "code",
      "source": [
        "class Point:\n",
        "  def __init__(self,a=0,b=0):\n",
        "    self.x = a\n",
        "    self.y = b\n",
        "\n",
        "  def translate(self,deltax,deltay):\n",
        "    self.x += deltax\n",
        "    self.y += deltay\n",
        "\n",
        "  def odistance(self):\n",
        "    import math\n",
        "    d = math.sqrt(self.x*self.x + self.y*self.y)\n",
        "    return(d)\n",
        "\n",
        "  def __str__(self):\n",
        "    return(\"(\"+str(self.x)+\",\"+str(self.y)+\")\")\n",
        "\n",
        "  def __add__(self,p):\n",
        "    return(Point(self.x+p.x,self.y+p.y))"
      ],
      "metadata": {
        "id": "ipCZbD8g3aFQ"
      },
      "execution_count": null,
      "outputs": []
    },
    {
      "cell_type": "code",
      "source": [
        "print(p+q)"
      ],
      "metadata": {
        "colab": {
          "base_uri": "https://localhost:8080/"
        },
        "id": "9PhLpJUA3qYc",
        "outputId": "2318c75d-e03c-4501-fa25-6f95788b013a"
      },
      "execution_count": null,
      "outputs": [
        {
          "output_type": "stream",
          "name": "stdout",
          "text": [
            "(10,14)\n"
          ]
        }
      ]
    },
    {
      "cell_type": "markdown",
      "source": [
        "#Lec 9 - Timing our code\n",
        "- Python has a library *time* with various useful function\n",
        "\n",
        "- *perf_time()* is a performabce counter\n",
        "  - Absolute value of *perf_time()* is not meaningful\n",
        "  - Compare two consecutive readings to get an interval\n",
        "  - Default unit is seconds\n",
        "  "
      ],
      "metadata": {
        "id": "P_0wWZsG4Vkv"
      }
    },
    {
      "cell_type": "code",
      "source": [
        "\n",
        "# A timer object\n",
        "# Create a timer class\n",
        "# Two interval ValuesView\n",
        "#  -_start_time\n",
        "#  - _elapsed_time\n",
        "# start starts the timer\n",
        "# stop records the elapsed time\n",
        "# More Sophisticated version in the actual Code\n",
        "# Pythin executes 10^7 operations per second\n",
        "\n",
        "import time\n",
        "class Timer:\n",
        "  def __init__(self):\n",
        "    self._start_time = 0\n",
        "    self._elapsed_time = 0\n",
        "\n",
        "  def start(self):\n",
        "    self._start_time = time.perf_counter()\n",
        "\n",
        "  def stop(self):\n",
        "    self._elapsed_time = time.perf_counter() - self._start_time\n",
        "\n",
        "    def elapsed(self):\n",
        "      return(self._elapsed_time)"
      ],
      "metadata": {
        "id": "CEDIzmLk4EVO"
      },
      "execution_count": null,
      "outputs": []
    },
    {
      "cell_type": "markdown",
      "source": [
        "# Lec 10 - Elaborate version of Timing code\n"
      ],
      "metadata": {
        "id": "Oytn9LmrDm52"
      }
    },
    {
      "cell_type": "code",
      "source": [
        "# A Time Class\n",
        "import time\n",
        "\n",
        "class TimeError(Exception):\n",
        "  \"\"\" A custom exception used to report errors in use of Timer class\"\"\"\n",
        "\n",
        "class Timer:\n",
        "  def __init__(self):\n",
        "    self.start_time = None\n",
        "    self.elapsed_time = None  # Initialize elapsed_time here to None\n",
        "\n",
        "  def start(self):\n",
        "    \"\"\"Start a new timer\"\"\"\n",
        "    if self.start_time is not None:\n",
        "      raise TimeError(\"Timer is running. Use .stop()\")\n",
        "    self.start_time = time.perf_counter()\n",
        "\n",
        "  def stop(self):\n",
        "    \"\"\"Save the elapsed timer and re-initialize timer\"\"\"\n",
        "    if self.start_time is None:\n",
        "      raise TimeError(\"Timer is not running. Use .start()\") #Corrected typo here to .start()\n",
        "    self.elapsed_time = time.perf_counter() - self.start_time #This line was incorrectly indented\n",
        "    self.start_time = None\n",
        "\n",
        "  def elapsed(self):\n",
        "    \"\"\"Report elapsed time\"\"\"\n",
        "    if self.elapsed_time is None: #changed to self.elapsed_time\n",
        "      raise TimeError(\"Timer has not been run yet. Use .start()\")\n",
        "    return(self.elapsed_time) #changed to self.elapsed_time\n",
        "\n",
        "  def __str__(self):\n",
        "    \"\"\"print() prints elapsed time\"\"\"\n",
        "    return(str(self.elapsed_time)) #changed to self.elapsed_time"
      ],
      "metadata": {
        "id": "3isrmqlc6Mix"
      },
      "execution_count": 12,
      "outputs": []
    },
    {
      "cell_type": "code",
      "source": [
        "t = Timer()\n",
        "for j in range(4,9):\n",
        "  t.start()\n",
        "  n = 0\n",
        "  for i in range(10**j):\n",
        "    n=n+i\n",
        "  t.stop()\n",
        "  print(j,t)"
      ],
      "metadata": {
        "colab": {
          "base_uri": "https://localhost:8080/"
        },
        "id": "ulWwmHPcU9fY",
        "outputId": "62a691f0-454c-4cb3-9586-2f3ab2954222"
      },
      "execution_count": 11,
      "outputs": [
        {
          "output_type": "stream",
          "name": "stdout",
          "text": [
            "4 0.0011066349999282465\n",
            "5 0.01138152299995454\n",
            "6 0.11193586600006711\n",
            "7 1.1172320389999868\n",
            "8 12.400735319999967\n"
          ]
        }
      ]
    },
    {
      "cell_type": "markdown",
      "source": [
        "#Lec 11 - Why Efficiency matters?\n",
        "- Every Sim card needs to be linked to an aadhar card\n",
        "- Validate the Aadhar details for each Sim card\n"
      ],
      "metadata": {
        "id": "OVJ7HH6STyLs"
      }
    },
    {
      "cell_type": "code",
      "source": [
        "#Simple nested loop\n",
        "for each SIM card S:\n",
        "  for each Aadhar number A:\n",
        "    check if Aadhar details of S\n",
        "    match A"
      ],
      "metadata": {
        "id": "CG6ShgscVrlA"
      },
      "execution_count": null,
      "outputs": []
    },
    {
      "cell_type": "markdown",
      "source": [
        "- How long will this take?\n",
        "  - *M* SIM cards, *N* Aadhar cards\n",
        "  - Nested loops iterate *M*  *  *N*\n",
        "\n",
        "- What are *M* and *N*\n",
        "  - Almost everyone in India has an Aadhar card : *N* >10^9\n",
        "  - Number of SIM cards registered is similar: *M* > 10^9\n",
        "\n",
        "- Assume * M = N = 10^9*\n",
        "\n",
        "- Nested loops execute 10^18 times\n",
        "\n",
        "- We calculated that Python can perform 10^7 operations in a second\n",
        "\n",
        "- this will take at least 10^11  seconds\n",
        "  - 10^11 / 60 = 1.67 x 10^9 minutes\n",
        "  - (1.67 x 10^9)/60 = 2.8 x 10^7 hours\n",
        "  - (2.8 x10^7)/24 = 1.17 x 10^6 days\n",
        "  - (1.17 x 10^6)/365 = 3200 years\n",
        "\n",
        "- How can we solve this?\n",
        "  - real world problem\n",
        "     - Assume Aadhar details are sorted by Aadhar number"
      ],
      "metadata": {
        "id": "UB1cSuZUUcfk"
      }
    },
    {
      "cell_type": "code",
      "source": [
        "# Using the halving stratedgy to check each SIM card\n",
        " for each SIM cards S:\n",
        "  probe sprted Aadhar list to\n",
        "  check Aadhar details of S"
      ],
      "metadata": {
        "id": "pvsL3h4NjfuF"
      },
      "execution_count": null,
      "outputs": []
    },
    {
      "cell_type": "markdown",
      "source": [
        "- Halving 10 times reduces the interval by a factor of 1000, because 2^10 = 1024\n",
        "- After 10 queries, interval shrinks to 10^6\n",
        "- After 20 queries, interval shrinks to 10^3\n",
        "- After 30 queries, interval shrinks to 1\n",
        "- Total time = 10^9 x 30\n",
        "- 3000 seconds, or 50 minutes\n",
        "- From 3200 years to 50 minutes\n",
        "- Of course, to achieve this we have to first sort the Aadhar cards\n",
        "- Arranging the data results in a much more efficient solution\n",
        "- Both algorithm and data structures matter."
      ],
      "metadata": {
        "id": "vahgBaMLj6_Q"
      }
    },
    {
      "cell_type": "markdown",
      "source": [
        "#Lec 12 - time taken and efficiency"
      ],
      "metadata": {
        "id": "WCl8iGzalamr"
      }
    },
    {
      "cell_type": "markdown",
      "source": [
        "### PDSA with python\n"
      ],
      "metadata": {
        "id": "6WL1E4Cix1c4"
      }
    },
    {
      "cell_type": "code",
      "source": [
        "def gcd(m, n):\n",
        "  cf = []\n",
        "  for i in range (1,min(m,n)+1):\n",
        "    if (m%i) == 0 and (n%i) == 0:\n",
        "      cf.append(i)\n",
        "  return(cf[-1])"
      ],
      "metadata": {
        "id": "AHEYXL-yloBH"
      },
      "execution_count": 14,
      "outputs": []
    },
    {
      "cell_type": "code",
      "source": [
        "gcd(56781234,87654321)"
      ],
      "metadata": {
        "colab": {
          "base_uri": "https://localhost:8080/"
        },
        "id": "Acmtjs1byifj",
        "outputId": "e2345752-4755-4865-b414-5d43a6e9a7b3"
      },
      "execution_count": 17,
      "outputs": [
        {
          "output_type": "execute_result",
          "data": {
            "text/plain": [
              "9"
            ]
          },
          "metadata": {},
          "execution_count": 17
        }
      ]
    },
    {
      "cell_type": "markdown",
      "source": [
        "###Recursive gcd using m-n"
      ],
      "metadata": {
        "id": "LBTpwPy3zT0o"
      }
    },
    {
      "cell_type": "code",
      "source": [
        "def gcd(m,n):\n",
        "  (a,b)=(max(m,n),min(m,n))\n",
        "  if a%b == 0:\n",
        "    return(b)\n",
        "  else:\n",
        "    return(gcd(b,a-b))"
      ],
      "metadata": {
        "id": "YjcpdQTsynt2"
      },
      "execution_count": 1,
      "outputs": []
    },
    {
      "cell_type": "code",
      "source": [
        "gcd(2,99999999)"
      ],
      "metadata": {
        "colab": {
          "base_uri": "https://localhost:8080/",
          "height": 1000
        },
        "id": "GMUcqZm2zQ2N",
        "outputId": "7519f087-4184-42e7-87ce-ede576948171"
      },
      "execution_count": 2,
      "outputs": [
        {
          "output_type": "stream",
          "name": "stderr",
          "text": [
            "ERROR:root:Internal Python error in the inspect module.\n",
            "Below is the traceback from this internal error.\n",
            "\n"
          ]
        },
        {
          "output_type": "stream",
          "name": "stdout",
          "text": [
            "Traceback (most recent call last):\n",
            "  File \"/usr/local/lib/python3.11/dist-packages/IPython/core/interactiveshell.py\", line 3553, in run_code\n",
            "    exec(code_obj, self.user_global_ns, self.user_ns)\n",
            "  File \"<ipython-input-2-400fbac30fb1>\", line 1, in <cell line: 0>\n",
            "    gcd(2,99999999)\n",
            "  File \"<ipython-input-1-1c52f3fec77d>\", line 6, in gcd\n",
            "    return(gcd(b,a-b))\n",
            "           ^^^^^^^^^^\n",
            "  File \"<ipython-input-1-1c52f3fec77d>\", line 6, in gcd\n",
            "    return(gcd(b,a-b))\n",
            "           ^^^^^^^^^^\n",
            "  File \"<ipython-input-1-1c52f3fec77d>\", line 6, in gcd\n",
            "    return(gcd(b,a-b))\n",
            "           ^^^^^^^^^^\n",
            "  [Previous line repeated 969 more times]\n",
            "  File \"<ipython-input-1-1c52f3fec77d>\", line 2, in gcd\n",
            "    (a,b)=(max(m,n),min(m,n))\n",
            "           ^^^^^^^^\n",
            "RecursionError: maximum recursion depth exceeded in comparison\n",
            "\n",
            "During handling of the above exception, another exception occurred:\n",
            "\n",
            "Traceback (most recent call last):\n",
            "  File \"/usr/local/lib/python3.11/dist-packages/IPython/core/interactiveshell.py\", line 2099, in showtraceback\n",
            "    stb = value._render_traceback_()\n",
            "          ^^^^^^^^^^^^^^^^^^^^^^^^\n",
            "AttributeError: 'RecursionError' object has no attribute '_render_traceback_'\n",
            "\n",
            "During handling of the above exception, another exception occurred:\n",
            "\n",
            "Traceback (most recent call last):\n",
            "  File \"/usr/local/lib/python3.11/dist-packages/IPython/core/ultratb.py\", line 1101, in get_records\n",
            "    return _fixed_getinnerframes(etb, number_of_lines_of_context, tb_offset)\n",
            "           ^^^^^^^^^^^^^^^^^^^^^^^^^^^^^^^^^^^^^^^^^^^^^^^^^^^^^^^^^^^^^^^^^\n",
            "  File \"/usr/local/lib/python3.11/dist-packages/IPython/core/ultratb.py\", line 248, in wrapped\n",
            "    return f(*args, **kwargs)\n",
            "           ^^^^^^^^^^^^^^^^^^\n",
            "  File \"/usr/local/lib/python3.11/dist-packages/IPython/core/ultratb.py\", line 281, in _fixed_getinnerframes\n",
            "    records = fix_frame_records_filenames(inspect.getinnerframes(etb, context))\n",
            "                                          ^^^^^^^^^^^^^^^^^^^^^^^^^^^^^^^^^^^^\n",
            "  File \"/usr/lib/python3.11/inspect.py\", line 1739, in getinnerframes\n",
            "    traceback_info = getframeinfo(tb, context)\n",
            "                     ^^^^^^^^^^^^^^^^^^^^^^^^^\n",
            "  File \"/usr/lib/python3.11/inspect.py\", line 1688, in getframeinfo\n",
            "    lines, lnum = findsource(frame)\n",
            "                  ^^^^^^^^^^^^^^^^^\n",
            "  File \"/usr/local/lib/python3.11/dist-packages/IPython/core/ultratb.py\", line 170, in findsource\n",
            "    file = getsourcefile(object) or getfile(object)\n",
            "           ^^^^^^^^^^^^^^^^^^^^^\n",
            "  File \"/usr/lib/python3.11/inspect.py\", line 948, in getsourcefile\n",
            "    module = getmodule(object, filename)\n",
            "             ^^^^^^^^^^^^^^^^^^^^^^^^^^^\n",
            "  File \"/usr/lib/python3.11/inspect.py\", line 988, in getmodule\n",
            "    if ismodule(module) and hasattr(module, '__file__'):\n",
            "       ^^^^^^^^^^^^^^^^\n",
            "  File \"/usr/lib/python3.11/inspect.py\", line 283, in ismodule\n",
            "    def ismodule(object):\n",
            "    \n",
            "KeyboardInterrupt\n"
          ]
        },
        {
          "output_type": "error",
          "ename": "TypeError",
          "evalue": "object of type 'NoneType' has no len()",
          "traceback": [
            "\u001b[0;31m---------------------------------------------------------------------------\u001b[0m",
            "\u001b[0;31mRecursionError\u001b[0m                            Traceback (most recent call last)",
            "    \u001b[0;31m[... skipping hidden 1 frame]\u001b[0m\n",
            "\u001b[0;32m<ipython-input-2-400fbac30fb1>\u001b[0m in \u001b[0;36m<cell line: 0>\u001b[0;34m()\u001b[0m\n\u001b[0;32m----> 1\u001b[0;31m \u001b[0mgcd\u001b[0m\u001b[0;34m(\u001b[0m\u001b[0;36m2\u001b[0m\u001b[0;34m,\u001b[0m\u001b[0;36m99999999\u001b[0m\u001b[0;34m)\u001b[0m\u001b[0;34m\u001b[0m\u001b[0;34m\u001b[0m\u001b[0m\n\u001b[0m",
            "\u001b[0;32m<ipython-input-1-1c52f3fec77d>\u001b[0m in \u001b[0;36mgcd\u001b[0;34m(m, n)\u001b[0m\n\u001b[1;32m      5\u001b[0m   \u001b[0;32melse\u001b[0m\u001b[0;34m:\u001b[0m\u001b[0;34m\u001b[0m\u001b[0;34m\u001b[0m\u001b[0m\n\u001b[0;32m----> 6\u001b[0;31m     \u001b[0;32mreturn\u001b[0m\u001b[0;34m(\u001b[0m\u001b[0mgcd\u001b[0m\u001b[0;34m(\u001b[0m\u001b[0mb\u001b[0m\u001b[0;34m,\u001b[0m\u001b[0ma\u001b[0m\u001b[0;34m-\u001b[0m\u001b[0mb\u001b[0m\u001b[0;34m)\u001b[0m\u001b[0;34m)\u001b[0m\u001b[0;34m\u001b[0m\u001b[0;34m\u001b[0m\u001b[0m\n\u001b[0m",
            "... last 1 frames repeated, from the frame below ...\n",
            "\u001b[0;32m<ipython-input-1-1c52f3fec77d>\u001b[0m in \u001b[0;36mgcd\u001b[0;34m(m, n)\u001b[0m\n\u001b[1;32m      5\u001b[0m   \u001b[0;32melse\u001b[0m\u001b[0;34m:\u001b[0m\u001b[0;34m\u001b[0m\u001b[0;34m\u001b[0m\u001b[0m\n\u001b[0;32m----> 6\u001b[0;31m     \u001b[0;32mreturn\u001b[0m\u001b[0;34m(\u001b[0m\u001b[0mgcd\u001b[0m\u001b[0;34m(\u001b[0m\u001b[0mb\u001b[0m\u001b[0;34m,\u001b[0m\u001b[0ma\u001b[0m\u001b[0;34m-\u001b[0m\u001b[0mb\u001b[0m\u001b[0;34m)\u001b[0m\u001b[0;34m)\u001b[0m\u001b[0;34m\u001b[0m\u001b[0;34m\u001b[0m\u001b[0m\n\u001b[0m",
            "\u001b[0;31mRecursionError\u001b[0m: maximum recursion depth exceeded in comparison",
            "\nDuring handling of the above exception, another exception occurred:\n",
            "\u001b[0;31mAttributeError\u001b[0m                            Traceback (most recent call last)",
            "\u001b[0;32m/usr/local/lib/python3.11/dist-packages/IPython/core/interactiveshell.py\u001b[0m in \u001b[0;36mshowtraceback\u001b[0;34m(self, exc_tuple, filename, tb_offset, exception_only, running_compiled_code)\u001b[0m\n\u001b[1;32m   2098\u001b[0m                         \u001b[0;31m# in the engines. This should return a list of strings.\u001b[0m\u001b[0;34m\u001b[0m\u001b[0;34m\u001b[0m\u001b[0m\n\u001b[0;32m-> 2099\u001b[0;31m                         \u001b[0mstb\u001b[0m \u001b[0;34m=\u001b[0m \u001b[0mvalue\u001b[0m\u001b[0;34m.\u001b[0m\u001b[0m_render_traceback_\u001b[0m\u001b[0;34m(\u001b[0m\u001b[0;34m)\u001b[0m\u001b[0;34m\u001b[0m\u001b[0;34m\u001b[0m\u001b[0m\n\u001b[0m\u001b[1;32m   2100\u001b[0m                     \u001b[0;32mexcept\u001b[0m \u001b[0mException\u001b[0m\u001b[0;34m:\u001b[0m\u001b[0;34m\u001b[0m\u001b[0;34m\u001b[0m\u001b[0m\n",
            "\u001b[0;31mAttributeError\u001b[0m: 'RecursionError' object has no attribute '_render_traceback_'",
            "\nDuring handling of the above exception, another exception occurred:\n",
            "\u001b[0;31mTypeError\u001b[0m                                 Traceback (most recent call last)",
            "    \u001b[0;31m[... skipping hidden 1 frame]\u001b[0m\n",
            "\u001b[0;32m/usr/local/lib/python3.11/dist-packages/IPython/core/interactiveshell.py\u001b[0m in \u001b[0;36mshowtraceback\u001b[0;34m(self, exc_tuple, filename, tb_offset, exception_only, running_compiled_code)\u001b[0m\n\u001b[1;32m   2099\u001b[0m                         \u001b[0mstb\u001b[0m \u001b[0;34m=\u001b[0m \u001b[0mvalue\u001b[0m\u001b[0;34m.\u001b[0m\u001b[0m_render_traceback_\u001b[0m\u001b[0;34m(\u001b[0m\u001b[0;34m)\u001b[0m\u001b[0;34m\u001b[0m\u001b[0;34m\u001b[0m\u001b[0m\n\u001b[1;32m   2100\u001b[0m                     \u001b[0;32mexcept\u001b[0m \u001b[0mException\u001b[0m\u001b[0;34m:\u001b[0m\u001b[0;34m\u001b[0m\u001b[0;34m\u001b[0m\u001b[0m\n\u001b[0;32m-> 2101\u001b[0;31m                         stb = self.InteractiveTB.structured_traceback(etype,\n\u001b[0m\u001b[1;32m   2102\u001b[0m                                             value, tb, tb_offset=tb_offset)\n\u001b[1;32m   2103\u001b[0m \u001b[0;34m\u001b[0m\u001b[0m\n",
            "\u001b[0;32m/usr/local/lib/python3.11/dist-packages/IPython/core/ultratb.py\u001b[0m in \u001b[0;36mstructured_traceback\u001b[0;34m(self, etype, value, tb, tb_offset, number_of_lines_of_context)\u001b[0m\n\u001b[1;32m   1365\u001b[0m         \u001b[0;32melse\u001b[0m\u001b[0;34m:\u001b[0m\u001b[0;34m\u001b[0m\u001b[0;34m\u001b[0m\u001b[0m\n\u001b[1;32m   1366\u001b[0m             \u001b[0mself\u001b[0m\u001b[0;34m.\u001b[0m\u001b[0mtb\u001b[0m \u001b[0;34m=\u001b[0m \u001b[0mtb\u001b[0m\u001b[0;34m\u001b[0m\u001b[0;34m\u001b[0m\u001b[0m\n\u001b[0;32m-> 1367\u001b[0;31m         return FormattedTB.structured_traceback(\n\u001b[0m\u001b[1;32m   1368\u001b[0m             self, etype, value, tb, tb_offset, number_of_lines_of_context)\n\u001b[1;32m   1369\u001b[0m \u001b[0;34m\u001b[0m\u001b[0m\n",
            "\u001b[0;32m/usr/local/lib/python3.11/dist-packages/IPython/core/ultratb.py\u001b[0m in \u001b[0;36mstructured_traceback\u001b[0;34m(self, etype, value, tb, tb_offset, number_of_lines_of_context)\u001b[0m\n\u001b[1;32m   1265\u001b[0m         \u001b[0;32mif\u001b[0m \u001b[0mmode\u001b[0m \u001b[0;32min\u001b[0m \u001b[0mself\u001b[0m\u001b[0;34m.\u001b[0m\u001b[0mverbose_modes\u001b[0m\u001b[0;34m:\u001b[0m\u001b[0;34m\u001b[0m\u001b[0;34m\u001b[0m\u001b[0m\n\u001b[1;32m   1266\u001b[0m             \u001b[0;31m# Verbose modes need a full traceback\u001b[0m\u001b[0;34m\u001b[0m\u001b[0;34m\u001b[0m\u001b[0m\n\u001b[0;32m-> 1267\u001b[0;31m             return VerboseTB.structured_traceback(\n\u001b[0m\u001b[1;32m   1268\u001b[0m                 \u001b[0mself\u001b[0m\u001b[0;34m,\u001b[0m \u001b[0metype\u001b[0m\u001b[0;34m,\u001b[0m \u001b[0mvalue\u001b[0m\u001b[0;34m,\u001b[0m \u001b[0mtb\u001b[0m\u001b[0;34m,\u001b[0m \u001b[0mtb_offset\u001b[0m\u001b[0;34m,\u001b[0m \u001b[0mnumber_of_lines_of_context\u001b[0m\u001b[0;34m\u001b[0m\u001b[0;34m\u001b[0m\u001b[0m\n\u001b[1;32m   1269\u001b[0m             )\n",
            "\u001b[0;32m/usr/local/lib/python3.11/dist-packages/IPython/core/ultratb.py\u001b[0m in \u001b[0;36mstructured_traceback\u001b[0;34m(self, etype, evalue, etb, tb_offset, number_of_lines_of_context)\u001b[0m\n\u001b[1;32m   1122\u001b[0m         \u001b[0;34m\"\"\"Return a nice text document describing the traceback.\"\"\"\u001b[0m\u001b[0;34m\u001b[0m\u001b[0;34m\u001b[0m\u001b[0m\n\u001b[1;32m   1123\u001b[0m \u001b[0;34m\u001b[0m\u001b[0m\n\u001b[0;32m-> 1124\u001b[0;31m         formatted_exception = self.format_exception_as_a_whole(etype, evalue, etb, number_of_lines_of_context,\n\u001b[0m\u001b[1;32m   1125\u001b[0m                                                                tb_offset)\n\u001b[1;32m   1126\u001b[0m \u001b[0;34m\u001b[0m\u001b[0m\n",
            "\u001b[0;32m/usr/local/lib/python3.11/dist-packages/IPython/core/ultratb.py\u001b[0m in \u001b[0;36mformat_exception_as_a_whole\u001b[0;34m(self, etype, evalue, etb, number_of_lines_of_context, tb_offset)\u001b[0m\n\u001b[1;32m   1080\u001b[0m \u001b[0;34m\u001b[0m\u001b[0m\n\u001b[1;32m   1081\u001b[0m \u001b[0;34m\u001b[0m\u001b[0m\n\u001b[0;32m-> 1082\u001b[0;31m         \u001b[0mlast_unique\u001b[0m\u001b[0;34m,\u001b[0m \u001b[0mrecursion_repeat\u001b[0m \u001b[0;34m=\u001b[0m \u001b[0mfind_recursion\u001b[0m\u001b[0;34m(\u001b[0m\u001b[0morig_etype\u001b[0m\u001b[0;34m,\u001b[0m \u001b[0mevalue\u001b[0m\u001b[0;34m,\u001b[0m \u001b[0mrecords\u001b[0m\u001b[0;34m)\u001b[0m\u001b[0;34m\u001b[0m\u001b[0;34m\u001b[0m\u001b[0m\n\u001b[0m\u001b[1;32m   1083\u001b[0m \u001b[0;34m\u001b[0m\u001b[0m\n\u001b[1;32m   1084\u001b[0m         \u001b[0mframes\u001b[0m \u001b[0;34m=\u001b[0m \u001b[0mself\u001b[0m\u001b[0;34m.\u001b[0m\u001b[0mformat_records\u001b[0m\u001b[0;34m(\u001b[0m\u001b[0mrecords\u001b[0m\u001b[0;34m,\u001b[0m \u001b[0mlast_unique\u001b[0m\u001b[0;34m,\u001b[0m \u001b[0mrecursion_repeat\u001b[0m\u001b[0;34m)\u001b[0m\u001b[0;34m\u001b[0m\u001b[0;34m\u001b[0m\u001b[0m\n",
            "\u001b[0;32m/usr/local/lib/python3.11/dist-packages/IPython/core/ultratb.py\u001b[0m in \u001b[0;36mfind_recursion\u001b[0;34m(etype, value, records)\u001b[0m\n\u001b[1;32m    379\u001b[0m     \u001b[0;31m# quarter of the traceback (250 frames by default) is repeats, and find the\u001b[0m\u001b[0;34m\u001b[0m\u001b[0;34m\u001b[0m\u001b[0m\n\u001b[1;32m    380\u001b[0m     \u001b[0;31m# first frame (from in to out) that looks different.\u001b[0m\u001b[0;34m\u001b[0m\u001b[0;34m\u001b[0m\u001b[0m\n\u001b[0;32m--> 381\u001b[0;31m     \u001b[0;32mif\u001b[0m \u001b[0;32mnot\u001b[0m \u001b[0mis_recursion_error\u001b[0m\u001b[0;34m(\u001b[0m\u001b[0metype\u001b[0m\u001b[0;34m,\u001b[0m \u001b[0mvalue\u001b[0m\u001b[0;34m,\u001b[0m \u001b[0mrecords\u001b[0m\u001b[0;34m)\u001b[0m\u001b[0;34m:\u001b[0m\u001b[0;34m\u001b[0m\u001b[0;34m\u001b[0m\u001b[0m\n\u001b[0m\u001b[1;32m    382\u001b[0m         \u001b[0;32mreturn\u001b[0m \u001b[0mlen\u001b[0m\u001b[0;34m(\u001b[0m\u001b[0mrecords\u001b[0m\u001b[0;34m)\u001b[0m\u001b[0;34m,\u001b[0m \u001b[0;36m0\u001b[0m\u001b[0;34m\u001b[0m\u001b[0;34m\u001b[0m\u001b[0m\n\u001b[1;32m    383\u001b[0m \u001b[0;34m\u001b[0m\u001b[0m\n",
            "\u001b[0;32m/usr/local/lib/python3.11/dist-packages/IPython/core/ultratb.py\u001b[0m in \u001b[0;36mis_recursion_error\u001b[0;34m(etype, value, records)\u001b[0m\n\u001b[1;32m    366\u001b[0m     \u001b[0;32mreturn\u001b[0m \u001b[0;34m(\u001b[0m\u001b[0metype\u001b[0m \u001b[0;32mis\u001b[0m \u001b[0mrecursion_error_type\u001b[0m\u001b[0;34m)\u001b[0m\u001b[0;31m \u001b[0m\u001b[0;31m\\\u001b[0m\u001b[0;34m\u001b[0m\u001b[0;34m\u001b[0m\u001b[0m\n\u001b[1;32m    367\u001b[0m            \u001b[0;32mand\u001b[0m \u001b[0;34m\"recursion\"\u001b[0m \u001b[0;32min\u001b[0m \u001b[0mstr\u001b[0m\u001b[0;34m(\u001b[0m\u001b[0mvalue\u001b[0m\u001b[0;34m)\u001b[0m\u001b[0;34m.\u001b[0m\u001b[0mlower\u001b[0m\u001b[0;34m(\u001b[0m\u001b[0;34m)\u001b[0m\u001b[0;31m \u001b[0m\u001b[0;31m\\\u001b[0m\u001b[0;34m\u001b[0m\u001b[0;34m\u001b[0m\u001b[0m\n\u001b[0;32m--> 368\u001b[0;31m            \u001b[0;32mand\u001b[0m \u001b[0mlen\u001b[0m\u001b[0;34m(\u001b[0m\u001b[0mrecords\u001b[0m\u001b[0;34m)\u001b[0m \u001b[0;34m>\u001b[0m \u001b[0m_FRAME_RECURSION_LIMIT\u001b[0m\u001b[0;34m\u001b[0m\u001b[0;34m\u001b[0m\u001b[0m\n\u001b[0m\u001b[1;32m    369\u001b[0m \u001b[0;34m\u001b[0m\u001b[0m\n\u001b[1;32m    370\u001b[0m \u001b[0;32mdef\u001b[0m \u001b[0mfind_recursion\u001b[0m\u001b[0;34m(\u001b[0m\u001b[0metype\u001b[0m\u001b[0;34m,\u001b[0m \u001b[0mvalue\u001b[0m\u001b[0;34m,\u001b[0m \u001b[0mrecords\u001b[0m\u001b[0;34m)\u001b[0m\u001b[0;34m:\u001b[0m\u001b[0;34m\u001b[0m\u001b[0;34m\u001b[0m\u001b[0m\n",
            "\u001b[0;31mTypeError\u001b[0m: object of type 'NoneType' has no len()"
          ]
        }
      ]
    },
    {
      "cell_type": "markdown",
      "source": [
        "### Euclid's algorithm\n"
      ],
      "metadata": {
        "id": "eEiQTKzi03ML"
      }
    },
    {
      "cell_type": "code",
      "source": [
        "def gcd(m,n):\n",
        "  (a,b)=(max(m,n),min(m,n))\n",
        "  if a%b == 0:\n",
        "    return(b)\n",
        "  else:\n",
        "    return(gcd(b,a%b))"
      ],
      "metadata": {
        "id": "S-a1Lozh02Om"
      },
      "execution_count": 3,
      "outputs": []
    },
    {
      "cell_type": "code",
      "source": [
        "gcd(5648763734,68677562672)"
      ],
      "metadata": {
        "colab": {
          "base_uri": "https://localhost:8080/"
        },
        "id": "dW1lNfVW0iTc",
        "outputId": "13332093-5ae6-4a8f-eadd-0d9f3eb8cbd5"
      },
      "execution_count": 4,
      "outputs": [
        {
          "output_type": "execute_result",
          "data": {
            "text/plain": [
              "2"
            ]
          },
          "metadata": {},
          "execution_count": 4
        }
      ]
    }
  ]
}