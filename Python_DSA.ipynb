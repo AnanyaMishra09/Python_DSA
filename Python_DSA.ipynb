{
  "nbformat": 4,
  "nbformat_minor": 0,
  "metadata": {
    "colab": {
      "provenance": [],
      "authorship_tag": "ABX9TyOrBQJLF6W+lohfFMdq4sH+",
      "include_colab_link": true
    },
    "kernelspec": {
      "name": "python3",
      "display_name": "Python 3"
    },
    "language_info": {
      "name": "python"
    }
  },
  "cells": [
    {
      "cell_type": "markdown",
      "metadata": {
        "id": "view-in-github",
        "colab_type": "text"
      },
      "source": [
        "<a href=\"https://colab.research.google.com/github/AnanyaMishra09/Python_DSA/blob/main/Python_DSA.ipynb\" target=\"_parent\"><img src=\"https://colab.research.google.com/assets/colab-badge.svg\" alt=\"Open In Colab\"/></a>"
      ]
    },
    {
      "cell_type": "markdown",
      "source": [
        "#Lec 1 - Greatest common Factor(gcd)"
      ],
      "metadata": {
        "id": "X-NtrzjJuHw4"
      }
    },
    {
      "cell_type": "code",
      "source": [
        "# version 1\n",
        "def gcd(m,n):\n",
        "  cf = []  #List of common factors\n",
        "  for i in range(1,min(m,n)+1):\n",
        "    if (m%i) == 0 and (n%i) == 0:\n",
        "      cf.append(i)\n",
        "  return(cf[-1])"
      ],
      "metadata": {
        "id": "8hTYALVH8sTK"
      },
      "execution_count": null,
      "outputs": []
    },
    {
      "cell_type": "code",
      "source": [
        "from re import I\n",
        "# version 2\n",
        "def gcd(m,n):\n",
        "  for i in range(1,min(m,n)+1):\n",
        "    if(m%i) == 0 and (n%i) == 0:\n",
        "      mrcf = i\n",
        "  return(mrcf)"
      ],
      "metadata": {
        "id": "GD1sMdZ89UHO"
      },
      "execution_count": null,
      "outputs": []
    },
    {
      "cell_type": "markdown",
      "source": [
        "#Lec 2 - prime number\n"
      ],
      "metadata": {
        "id": "f7FoJQVcuQuJ"
      }
    },
    {
      "cell_type": "code",
      "source": [
        "# Count the factors and appending them in a list\n",
        "def factors(n):\n",
        "  f1 = [] #Factor list\n",
        "  for i in range(1, n+1):\n",
        "    if (n%i)== 0:\n",
        "      f1.append(i)\n",
        "  return f1"
      ],
      "metadata": {
        "id": "OoILTvQ8uZAA"
      },
      "execution_count": null,
      "outputs": []
    },
    {
      "cell_type": "code",
      "source": [
        "# checking if the number is prime(divisuble by 1 and itself only) or not.\n",
        "# prime number starts from 2 , because 1 can't be in a format[1,n], it looks like [1,1].\n",
        "def prime(n):\n",
        "  return (factors(n) == [1, n])"
      ],
      "metadata": {
        "id": "nMq-_NqTvNPw"
      },
      "execution_count": null,
      "outputs": []
    },
    {
      "cell_type": "code",
      "execution_count": null,
      "metadata": {
        "id": "so9HWDV7uAIe"
      },
      "outputs": [],
      "source": [
        "# function for printing the prime number upto m (it will print all the prime number smaller or equal to that number).\n",
        "def primesupto(m):\n",
        "  p1 = []\n",
        "  for i in range(1, m+1):\n",
        "    if prime(i):\n",
        "      p1.append(i)\n",
        "  return (p1)"
      ]
    },
    {
      "cell_type": "code",
      "source": [
        "# this is to print first m prime numbers.\n",
        "def firstprime(m):\n",
        "  (count,i,pl) = (0,1,[])\n",
        "  while (count < m):\n",
        "    if prime(i):\n",
        "      (count,p1) = (count+1,pl+[i])\n",
        "    i = i+1\n",
        "  return (p1)"
      ],
      "metadata": {
        "id": "dInwe_6xvq7n"
      },
      "execution_count": null,
      "outputs": []
    },
    {
      "cell_type": "code",
      "source": [
        "# Directly check if n has a factor between 2 and n+1\n",
        "def prime(n):\n",
        "  result = True\n",
        "  for i in range(2, n):\n",
        "    if(n%i) == 0:\n",
        "      result = False\n",
        "  return (result)"
      ],
      "metadata": {
        "id": "Y7XT1t7hw3Gh"
      },
      "execution_count": null,
      "outputs": []
    },
    {
      "cell_type": "code",
      "source": [
        "#Terminate check after we find first factor\n",
        "#1) by break out of a loop\n",
        "def orime(n):\n",
        "  result = True\n",
        "  for i in range(2,n):\n",
        "    if(n%i) == 0:\n",
        "      result = False\n",
        "      break  #Abort Loop\n",
        "  return (result)"
      ],
      "metadata": {
        "id": "Lx-LRwvk2n6w"
      },
      "execution_count": null,
      "outputs": []
    },
    {
      "cell_type": "code",
      "source": [
        "#Terminate check after we find first factor\n",
        "#2) Use while loop\n",
        "def prime(n):\n",
        "  (result,i)=(True,2)\n",
        "  while (result and (i< n)):\n",
        "    if(n%i) == 0:\n",
        "      result = False\n",
        "    i = i+1\n",
        "  return (result)\n"
      ],
      "metadata": {
        "id": "KAn1maGe3IUl"
      },
      "execution_count": null,
      "outputs": []
    },
    {
      "cell_type": "code",
      "source": [
        "# SPEEDING UP\n",
        "import math\n",
        "def prime(n):\n",
        "  (result,i)=(True, 2)\n",
        "  while (result and(i<math.sqrt(n))):\n",
        "    if(n%i) == 0:\n",
        "      result = False\n",
        "      i = i+1\n",
        "  return (result)"
      ],
      "metadata": {
        "id": "ths_1Etc3oDs"
      },
      "execution_count": null,
      "outputs": []
    },
    {
      "cell_type": "code",
      "source": [
        "# difference between two alternate primes\n",
        "def primediffs(n):\n",
        "  lastprime = 2\n",
        "  pd = {}    #Dictionary for prime differences\n",
        "  for i in range(3, n+1):\n",
        "    if prime(i):\n",
        "      d = i - lastprime\n",
        "      lastprime = i\n",
        "      if d in pd.keys():\n",
        "        pd[d] = pd[d] +1\n",
        "      else:\n",
        "        pd[d] = 1\n",
        "  return (pd)\n",
        "\n",
        "print(primediffs(100))"
      ],
      "metadata": {
        "id": "BwJ0ITDn3_UI",
        "colab": {
          "base_uri": "https://localhost:8080/"
        },
        "outputId": "9330d1ab-49ed-483f-abf2-0ecfe4885da0"
      },
      "execution_count": null,
      "outputs": [
        {
          "output_type": "stream",
          "name": "stdout",
          "text": [
            "{1: 1, 2: 8, 4: 7, 6: 7, 8: 1}\n"
          ]
        }
      ]
    }
  ]
}