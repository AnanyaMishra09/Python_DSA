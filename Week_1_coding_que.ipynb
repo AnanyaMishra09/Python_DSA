{
  "nbformat": 4,
  "nbformat_minor": 0,
  "metadata": {
    "colab": {
      "provenance": [],
      "authorship_tag": "ABX9TyNCAa7gcGOxe9EzdhQkGF93",
      "include_colab_link": true
    },
    "kernelspec": {
      "name": "python3",
      "display_name": "Python 3"
    },
    "language_info": {
      "name": "python"
    }
  },
  "cells": [
    {
      "cell_type": "markdown",
      "metadata": {
        "id": "view-in-github",
        "colab_type": "text"
      },
      "source": [
        "<a href=\"https://colab.research.google.com/github/AnanyaMishra09/Python_DSA/blob/main/Week_1_coding_que.ipynb\" target=\"_parent\"><img src=\"https://colab.research.google.com/assets/colab-badge.svg\" alt=\"Open In Colab\"/></a>"
      ]
    },
    {
      "cell_type": "markdown",
      "source": [
        "###PPA - 1\n",
        "Twin primes are pairs of prime numbers that differ by 2. For example (3, 5), (5, 7), and (11,13) are twin primes.\n",
        "Write a function Twin_Primes(n, m) where n and m are positive integers and n < m , that returns all unique twin primes between m and n (both inclusive). The function returns a list of tuples and each tuple (a,b) represents one unique twin prime where n <= a < b <= m."
      ],
      "metadata": {
        "id": "ldjATVISIG2W"
      }
    },
    {
      "cell_type": "code",
      "execution_count": 3,
      "metadata": {
        "colab": {
          "base_uri": "https://localhost:8080/"
        },
        "id": "0pCCA8KnGcsZ",
        "outputId": "fee28978-02d2-4b91-baee-77bb9b7676ce"
      },
      "outputs": [
        {
          "output_type": "stream",
          "name": "stdout",
          "text": [
            "[(3, 5), (5, 7), (11, 13)]\n"
          ]
        }
      ],
      "source": [
        "def Twin_Primes(n, m):\n",
        "    def is_prime(num):\n",
        "        if num <= 1:\n",
        "            return False\n",
        "        for i in range(2, int(num**0.5) + 1):\n",
        "            if num % i == 0:\n",
        "                return False\n",
        "        return True\n",
        "\n",
        "    twin_primes = []\n",
        "    for i in range(n, m - 1):  # Check up to m - 2 to avoid going beyond m\n",
        "        if is_prime(i) and is_prime(i + 2):\n",
        "            twin_primes.append((i, i + 2))\n",
        "\n",
        "    return twin_primes\n",
        "\n",
        "#Test_case_1 : n=1 and m=15\n",
        "print(Twin_Primes(1, 15))"
      ]
    },
    {
      "cell_type": "markdown",
      "source": [
        "###PPA-2\n",
        "Create a Triangle class that accepts three side-lengths of the triangle as a, b, and c as parameters at the time of object creation. Class Triangle should have the following methods:\n",
        "\n",
        "Is_valid(): Returns Valid if triangle is valid otherwise returns Invalid.\n",
        "\n",
        "A triangle is valid when the sum of its two side-lengths are greater than the third one.\n",
        "That means the triangle is valid if all three conditions are satisfied:\n",
        "\n",
        "a + b > c\n",
        "\n",
        "a + c > b\n",
        "\n",
        "b + c > a\n",
        "\n",
        "Side_Classification(): If the triangle is invalid then return Invalid. Otherwise, it returns the type of triangle according to the sides of the triangle as follows:\n",
        "\n",
        "Return Equilateral if all sides are of equal length.\n",
        "\n",
        "Return Isosceles if any two sides are of equal length and the third is different.\n",
        "\n",
        "Return Scalene if all sides are of different lengths.\n",
        "\n",
        "Angle_Classification(): If the triangle is invalid then return Invalid. Otherwise, return type of triangle using Pythagoras theorem.\n",
        "\n",
        "For example if a ≤ b ≤ c, then\n",
        "\n",
        "If a² + b² > c² return Acute\n",
        "\n",
        "If a² + b² = c² return Right\n",
        "\n",
        "If a² + b² < c² return Obtuse\n",
        "\n",
        "In the formula of angle classification, the square of the largest side length should be compared to the sum of squares of the other two side lengths.\n",
        "\n",
        "Area(): If the triangle is invalid then return Invalid. Otherwise, return the area of the triangle.\n",
        "\n",
        "Area = √[s(s − a)(s − b)(s − c)]\n",
        "Where s = (a + b + c) / 2\n",
        "\n"
      ],
      "metadata": {
        "id": "EaeiPH_7INOy"
      }
    },
    {
      "cell_type": "code",
      "source": [
        "import math\n",
        "\n",
        "class Triangle:\n",
        "    def __init__(self, a, b, c):\n",
        "        self.a = a\n",
        "        self.b = b\n",
        "        self.c = c\n",
        "\n",
        "    def Is_valid(self):\n",
        "        if (self.a + self.b > self.c) and (self.a + self.c > self.b) and (self.b + self.c > self.a):\n",
        "            return \"Valid\"\n",
        "        else:\n",
        "            return \"Invalid\"\n",
        "\n",
        "    def Side_Classification(self):\n",
        "        if self.Is_valid() == \"Invalid\":\n",
        "            return \"Invalid\"\n",
        "        elif self.a == self.b == self.c:\n",
        "            return \"Equilateral\"\n",
        "        elif self.a == self.b or self.a == self.c or self.b == self.c:\n",
        "            return \"Isosceles\"\n",
        "        else:\n",
        "            return \"Scalene\"\n",
        "\n",
        "    def Angle_Classification(self):\n",
        "        if self.Is_valid() == \"Invalid\":\n",
        "            return \"Invalid\"\n",
        "        sides = sorted([self.a, self.b, self.c])\n",
        "        a, b, c = sides[0], sides[1], sides[2]\n",
        "        if a**2 + b**2 > c**2:\n",
        "            return \"Acute\"\n",
        "        elif a**2 + b**2 == c**2:\n",
        "            return \"Right\"\n",
        "        else:\n",
        "            return \"Obtuse\"\n",
        "\n",
        "    def Area(self):\n",
        "        if self.Is_valid() == \"Invalid\":\n",
        "            return \"Invalid\"\n",
        "        s = (self.a + self.b + self.c) / 2\n",
        "        area = math.sqrt(s * (s - self.a) * (s - self.b) * (s - self.c))\n",
        "        return area\n",
        "\n",
        "#Test case -1\n",
        "a=2\n",
        "b=3\n",
        "c=4\n",
        "T=Triangle(a,b,c)\n",
        "print(T.Is_valid())\n",
        "print(T.Side_Classification())\n",
        "print(T.Angle_Classification())\n",
        "print(T.Area())"
      ],
      "metadata": {
        "colab": {
          "base_uri": "https://localhost:8080/"
        },
        "id": "vEL4nsbnIGJb",
        "outputId": "27ca0437-e649-4411-80ee-de9969b20e8b"
      },
      "execution_count": 4,
      "outputs": [
        {
          "output_type": "stream",
          "name": "stdout",
          "text": [
            "Valid\n",
            "Scalene\n",
            "Obtuse\n",
            "2.9047375096555625\n"
          ]
        }
      ]
    },
    {
      "cell_type": "markdown",
      "source": [
        "###GRPA -1\n",
        "Write a function find_Min_Difference(L, P) that accepts a list L of integers and P (positive integer) where the size of L is greater than P. The task is to pick P different elements from the list L, where the difference between the maximum value and the minimum value in selected elements is minimum compared to other differences in possible subset of p elements. The function returns this minimum difference value.\n",
        "Note - The list can contain more than one subset of p elements that have the same minimum difference value.\n",
        "\n",
        "Example\n",
        "\n",
        "Let L = [3, 4, 1, 9, 56, 7, 9, 12, 13] and P = 5\n",
        "\n",
        "If we see the following two subsets of 5 elements from L\n",
        "\n",
        "[3, 4, 7, 9, 9] or [7, 9, 9, 12, 13]\n",
        "\n",
        "Here, the difference between the maximum value and the minimum value in both subset is 9 - 3 = 6 or 13 - 7 = 6 which is minimum. So the output will be 6.\n",
        "\n",
        "Sample Input\n",
        "\n",
        "[3, 4, 1, 9, 56, 7, 9, 12]\n",
        "5\n",
        "Output\n",
        "\n",
        "6"
      ],
      "metadata": {
        "id": "kaRYka4LLMYD"
      }
    },
    {
      "cell_type": "code",
      "source": [
        "def find_Min_Difference(L, P):\n",
        "    L.sort()  # Sort the list to easily find min and max in subsets\n",
        "    min_diff = float('inf')  # Initialize with a large value\n",
        "\n",
        "    for i in range(len(L) - P + 1):\n",
        "        subset = L[i:i + P]  # Get a subset of P elements\n",
        "        diff = subset[-1] - subset[0]  # Difference between max and min in subset\n",
        "        min_diff = min(min_diff, diff)  # Update min_diff if a smaller difference is found\n",
        "\n",
        "    return min_diff\n",
        "# Test Case - 1\n",
        "L=[3,3,3,3,3,3,3,3,3]\n",
        "P=4\n",
        "print(find_Min_Difference(L,P))"
      ],
      "metadata": {
        "colab": {
          "base_uri": "https://localhost:8080/"
        },
        "id": "DaGYoyiXLUr7",
        "outputId": "04bfdcab-5878-4b59-d688-0d1a1b376cce"
      },
      "execution_count": 6,
      "outputs": [
        {
          "output_type": "stream",
          "name": "stdout",
          "text": [
            "0\n"
          ]
        }
      ]
    },
    {
      "cell_type": "code",
      "source": [
        "# Test Case - 2\n",
        "L = [3,4,1,9,56,7,9,12]\n",
        "P = 5\n",
        "print(find_Min_Difference(L,P))"
      ],
      "metadata": {
        "colab": {
          "base_uri": "https://localhost:8080/"
        },
        "id": "u3vs_n2lMGu6",
        "outputId": "254aadf5-6d14-4519-c5dc-9bea16130263"
      },
      "execution_count": 24,
      "outputs": [
        {
          "output_type": "stream",
          "name": "stdout",
          "text": [
            "6\n"
          ]
        }
      ]
    },
    {
      "cell_type": "code",
      "source": [
        "# Test Case - 3\n",
        "L = [1,2,3,-4,3,2,1,5,-6,7,8,9,10]\n",
        "P = 6\n",
        "print(find_Min_Difference(L,P))"
      ],
      "metadata": {
        "colab": {
          "base_uri": "https://localhost:8080/"
        },
        "id": "jCUUd-R7MOg6",
        "outputId": "52f76c2c-df68-4ea8-e833-2289789fd356"
      },
      "execution_count": 25,
      "outputs": [
        {
          "output_type": "stream",
          "name": "stdout",
          "text": [
            "2\n"
          ]
        }
      ]
    },
    {
      "cell_type": "markdown",
      "source": [
        "###GRPA - 2\n",
        "Goldbach's conjecture is one of the oldest and best-known unsolved problems in number theory. It states that every even number greater than 2 is the sum of two prime numbers.\n",
        "\n",
        "For Example:\n",
        "\n",
        "12 = 5 + 7\n",
        "26 = 3 + 23 or 7 + 19 or 13 + 13\n",
        "\n",
        "Write a function Goldbach(n) where n is a positive even number (n > 2) that returns a list of tuples. In each tuple (a, b) where a <= b, a and b should be prime numbers and the sum of a and b should be equal to n.\n",
        "\n",
        "Sample Input 1\n",
        "12\n",
        "Output\n",
        "[(5, 7)]\n",
        "Sample Input 2\n",
        "26\n",
        "Output\n",
        "[(3, 23), (7, 19), (13, 13)]\n"
      ],
      "metadata": {
        "id": "sTX0r5RzNT_4"
      }
    },
    {
      "cell_type": "code",
      "source": [
        "def Goldbach(n):\n",
        "    def is_prime(num):\n",
        "        if num <= 1:\n",
        "            return False\n",
        "        for i in range(2, int(num**0.5) + 1):\n",
        "            if num % i == 0:\n",
        "                return False\n",
        "        return True\n",
        "\n",
        "    result = []\n",
        "    if n > 2 and n % 2 == 0:\n",
        "        for a in range(2, n):\n",
        "            if is_prime(a) and is_prime(n - a) and a <= (n - a):\n",
        "                result.append((a, n - a))\n",
        "    return result"
      ],
      "metadata": {
        "id": "UHce6SVFMYAj"
      },
      "execution_count": 11,
      "outputs": []
    },
    {
      "cell_type": "code",
      "source": [
        "#Test case - 1\n",
        "n=16\n",
        "print(sorted(Goldbach(n)))"
      ],
      "metadata": {
        "colab": {
          "base_uri": "https://localhost:8080/"
        },
        "id": "UYo2gIg3N1xm",
        "outputId": "3d4d0197-8329-4b6f-ae87-049bd3ad8025"
      },
      "execution_count": 13,
      "outputs": [
        {
          "output_type": "stream",
          "name": "stdout",
          "text": [
            "[(3, 13), (5, 11)]\n"
          ]
        }
      ]
    },
    {
      "cell_type": "code",
      "source": [
        "#Test case - 2\n",
        "n=26\n",
        "print(sorted(Goldbach(n)))"
      ],
      "metadata": {
        "colab": {
          "base_uri": "https://localhost:8080/"
        },
        "id": "xA9j7ZQqOCiv",
        "outputId": "fedcfd0a-aa3c-485c-bb38-863cc72b2ea8"
      },
      "execution_count": 22,
      "outputs": [
        {
          "output_type": "stream",
          "name": "stdout",
          "text": [
            "[(3, 23), (7, 19), (13, 13)]\n"
          ]
        }
      ]
    },
    {
      "cell_type": "code",
      "source": [
        "#Test case - 3\n",
        "n=12\n",
        "print(sorted(Goldbach(n)))"
      ],
      "metadata": {
        "colab": {
          "base_uri": "https://localhost:8080/"
        },
        "id": "2lVUFNSlOG8n",
        "outputId": "ca537918-7e19-42eb-fc4b-79403b3f7931"
      },
      "execution_count": 23,
      "outputs": [
        {
          "output_type": "stream",
          "name": "stdout",
          "text": [
            "[(5, 7)]\n"
          ]
        }
      ]
    },
    {
      "cell_type": "markdown",
      "source": [
        "###GRPA = 3\n",
        "Write a function named odd_one(L) that accepts a list L as argument. Except for one element, all other elements in L are of the same data type. The function odd_one should return the data type of this odd element.\n",
        "\n",
        "For example, if L is equal to [1, 2, 3.4, 5, 10], then the function should return the string float. This is because the element 3.4 is the odd one here, all other elements are integers.\n",
        "\n",
        "Note\n",
        "\n",
        "L has at least three elements.\n",
        "\n",
        "For each test case, the elements in the list will only be of one of these four types: int, float, str, bool.\n",
        "\n",
        "The function must return one of these four strings: int, float, str, bool.\n",
        "\n",
        "Hint: type(1) == int evaluates to True."
      ],
      "metadata": {
        "id": "Nb2WJ-ekOgP4"
      }
    },
    {
      "cell_type": "code",
      "source": [
        "def odd_one(L):\n",
        "    type_counts = {}\n",
        "    for item in L:\n",
        "        item_type = type(item)\n",
        "        type_counts[item_type] = type_counts.get(item_type, 0) + 1\n",
        "\n",
        "    for item_type, count in type_counts.items():\n",
        "        if count == 1:\n",
        "            if item_type == int:\n",
        "                return \"int\"\n",
        "            elif item_type == float:\n",
        "                return \"float\"\n",
        "            elif item_type == str:\n",
        "                return \"str\"\n",
        "            elif item_type == bool:\n",
        "                return \"bool\"\n",
        "    return None  # Should not reach here in valid cases"
      ],
      "metadata": {
        "id": "-LssugzxOnYj"
      },
      "execution_count": 16,
      "outputs": []
    },
    {
      "cell_type": "code",
      "source": [
        "#Test case -1\n",
        "print(odd_one([2,13,16,4.5]))"
      ],
      "metadata": {
        "colab": {
          "base_uri": "https://localhost:8080/"
        },
        "id": "8870YnKIOu2z",
        "outputId": "9137d7cb-cf84-4199-8c6b-14afb4c5ff6b"
      },
      "execution_count": 18,
      "outputs": [
        {
          "output_type": "stream",
          "name": "stdout",
          "text": [
            "float\n"
          ]
        }
      ]
    },
    {
      "cell_type": "code",
      "source": [
        "#Test case -2\n",
        "print(odd_one([1.5,2.0,3.6,1,2.6,8.6]))"
      ],
      "metadata": {
        "colab": {
          "base_uri": "https://localhost:8080/"
        },
        "id": "8A9i8gEwPXn8",
        "outputId": "eff74695-bfb7-453c-b93b-e8868e631898"
      },
      "execution_count": 21,
      "outputs": [
        {
          "output_type": "stream",
          "name": "stdout",
          "text": [
            "int\n"
          ]
        }
      ]
    },
    {
      "cell_type": "code",
      "source": [
        "#Test case -2\n",
        "print(odd_one([2,3,4,5,6,7,'1']))"
      ],
      "metadata": {
        "colab": {
          "base_uri": "https://localhost:8080/"
        },
        "id": "u4cX6nOlPwoQ",
        "outputId": "e67f9079-7aca-4e03-8a2d-37069a6f1837"
      },
      "execution_count": 20,
      "outputs": [
        {
          "output_type": "stream",
          "name": "stdout",
          "text": [
            "str\n"
          ]
        }
      ]
    }
  ]
}